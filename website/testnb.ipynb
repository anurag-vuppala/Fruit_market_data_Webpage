{
 "cells": [
  {
   "cell_type": "code",
   "execution_count": 11,
   "metadata": {},
   "outputs": [
    {
     "name": "stdout",
     "output_type": "stream",
     "text": [
      "   COUNT( DISTINCT saleapp_fruits.Desired_Fruit)  fruits_id\n",
      "0                                              4          1\n"
     ]
    }
   ],
   "source": [
    "import sqlite3\n",
    "import pandas as pd\n",
    "\n",
    "con = sqlite3.connect('db.sqlite3')\n",
    "c= con.cursor()\n",
    "\n",
    "# data = c.execute('SELECT * FROM saleapp_sales_Desired_Fruit INNER JOIN saleapp_fruits ON saleapp_sales_Desired_Fruit.fruits_id=saleapp_fruits.id GROUP BY saleapp_fruits.Desired_Fruit').fetchall()\n",
    "\n",
    "data = pd.read_sql_query('SELECT saleapp_fruits.Desired_Fruit, COUNT( saleapp_sales_Desired_Fruit.fruits_id ) FROM saleapp_fruits INNER JOIN saleapp_sales_Desired_Fruit ON saleapp_sales_Desired_Fruit.fruits_id=saleapp_fruits.id GROUP BY saleapp_fruits.Desired_Fruit',con)\n",
    "print(data)\n",
    "c.close()"
   ]
  }
 ],
 "metadata": {
  "interpreter": {
   "hash": "80477a26004f58247ad8cfebb7cb0d32ce764cacd975fb3e8ee8e7bfdcb46590"
  },
  "kernelspec": {
   "display_name": "Python 3.9.4 ('fruitVM': venv)",
   "language": "python",
   "name": "python3"
  },
  "language_info": {
   "codemirror_mode": {
    "name": "ipython",
    "version": 3
   },
   "file_extension": ".py",
   "mimetype": "text/x-python",
   "name": "python",
   "nbconvert_exporter": "python",
   "pygments_lexer": "ipython3",
   "version": "3.9.4"
  },
  "orig_nbformat": 4
 },
 "nbformat": 4,
 "nbformat_minor": 2
}
